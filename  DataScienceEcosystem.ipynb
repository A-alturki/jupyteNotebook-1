{
 "cells": [
  {
   "cell_type": "markdown",
   "id": "0cff44fc",
   "metadata": {},
   "source": [
    "# Data Science Tools and Ecosystem"
   ]
  },
  {
   "cell_type": "markdown",
   "id": "a1129c43",
   "metadata": {},
   "source": [
    "In this notebook, Data Science Tools and Ecosystem are summarized."
   ]
  },
  {
   "cell_type": "markdown",
   "id": "e824337a",
   "metadata": {},
   "source": [
    "**Objectives:**\n",
    "<ul>\n",
    "    <li>obj1</li>\n",
    "    <li>obj2</li>\n",
    "    <li>obj3</li>\n",
    "    <li>obj4</li>\n",
    "    <li>obj5</li>\n",
    " </ul>"
   ]
  },
  {
   "cell_type": "markdown",
   "id": "c34c0dc4",
   "metadata": {},
   "source": [
    "Some of the popular languages that Data Scientists use are:"
   ]
  },
  {
   "cell_type": "markdown",
   "id": "d6684417",
   "metadata": {},
   "source": [
    "<ol>\n",
    "<li>Python</li>\n",
    "<li>R</li>\n",
    "<li>some others</li>\n",
    "</ol>"
   ]
  },
  {
   "cell_type": "markdown",
   "id": "e93639f7",
   "metadata": {},
   "source": [
    "Some of the commonly used libraries used by Data Scientists include:\n",
    "<ol>\n",
    "<li>scikit</li>\n",
    "<li>tensorflow</li>\n",
    "<li>some others</li>\n",
    "</ol>"
   ]
  },
  {
   "cell_type": "markdown",
   "id": "528d8e75",
   "metadata": {},
   "source": [
    "|Data Science Tools|\n",
    ":----------------:\n",
    "|datascience tool 1|\n",
    "|datascience tool 2|\n",
    "|datascience tool 3|"
   ]
  },
  {
   "cell_type": "markdown",
   "id": "8b9fb36a",
   "metadata": {},
   "source": [
    "### Below are a few examples of evaluating arithmetic expressions in Python"
   ]
  },
  {
   "cell_type": "code",
   "execution_count": 10,
   "id": "235fae3d",
   "metadata": {},
   "outputs": [
    {
     "data": {
      "text/plain": [
       "17"
      ]
     },
     "execution_count": 10,
     "metadata": {},
     "output_type": "execute_result"
    }
   ],
   "source": [
    "# This a simple arithmetic expression to mutiply then add integers\n",
    "(3*4)+5"
   ]
  },
  {
   "cell_type": "code",
   "execution_count": 12,
   "id": "252fc735",
   "metadata": {},
   "outputs": [
    {
     "name": "stdout",
     "output_type": "stream",
     "text": [
      "200 minutes is the same as 3.3333333333333335 hours\n"
     ]
    }
   ],
   "source": [
    "# This will convert 200 minutes to hours by diving by 60\n",
    "print(\"200 minutes is the same as\", 200/60 , \"hours\")"
   ]
  },
  {
   "cell_type": "markdown",
   "id": "67efe917",
   "metadata": {},
   "source": [
    "## Author: tueki"
   ]
  },
  {
   "cell_type": "code",
   "execution_count": null,
   "id": "e0e36585",
   "metadata": {},
   "outputs": [],
   "source": []
  }
 ],
 "metadata": {
  "kernelspec": {
   "display_name": "Python 3 (ipykernel)",
   "language": "python",
   "name": "python3"
  },
  "language_info": {
   "codemirror_mode": {
    "name": "ipython",
    "version": 3
   },
   "file_extension": ".py",
   "mimetype": "text/x-python",
   "name": "python",
   "nbconvert_exporter": "python",
   "pygments_lexer": "ipython3",
   "version": "3.11.4"
  }
 },
 "nbformat": 4,
 "nbformat_minor": 5
}
